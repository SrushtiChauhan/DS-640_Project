{
 "cells": [
  {
   "cell_type": "code",
   "execution_count": 1,
   "id": "0db6be63",
   "metadata": {},
   "outputs": [
    {
     "name": "stdout",
     "output_type": "stream",
     "text": [
      "Requirement already satisfied: yfinance in c:\\users\\srushti chauhan\\.conda\\envs\\tf2\\lib\\site-packages (0.1.75)\n",
      "Requirement already satisfied: numpy>=1.15 in c:\\users\\srushti chauhan\\.conda\\envs\\tf2\\lib\\site-packages (from yfinance) (1.22.4)\n",
      "Requirement already satisfied: lxml>=4.5.1 in c:\\users\\srushti chauhan\\.conda\\envs\\tf2\\lib\\site-packages (from yfinance) (4.9.1)\n",
      "Requirement already satisfied: multitasking>=0.0.7 in c:\\users\\srushti chauhan\\.conda\\envs\\tf2\\lib\\site-packages (from yfinance) (0.0.11)\n",
      "Requirement already satisfied: requests>=2.26 in c:\\users\\srushti chauhan\\.conda\\envs\\tf2\\lib\\site-packages (from yfinance) (2.26.0)\n",
      "Requirement already satisfied: pandas>=0.24.0 in c:\\users\\srushti chauhan\\.conda\\envs\\tf2\\lib\\site-packages (from yfinance) (1.3.5)\n",
      "Requirement already satisfied: appdirs>=1.4.4 in c:\\users\\srushti chauhan\\.conda\\envs\\tf2\\lib\\site-packages (from yfinance) (1.4.4)\n",
      "Requirement already satisfied: python-dateutil>=2.7.3 in c:\\users\\srushti chauhan\\.conda\\envs\\tf2\\lib\\site-packages (from pandas>=0.24.0->yfinance) (2.8.2)\n",
      "Requirement already satisfied: pytz>=2017.3 in c:\\users\\srushti chauhan\\.conda\\envs\\tf2\\lib\\site-packages (from pandas>=0.24.0->yfinance) (2022.1)\n",
      "Requirement already satisfied: certifi>=2017.4.17 in c:\\users\\srushti chauhan\\.conda\\envs\\tf2\\lib\\site-packages (from requests>=2.26->yfinance) (2022.5.18.1)\n",
      "Requirement already satisfied: idna<4,>=2.5 in c:\\users\\srushti chauhan\\.conda\\envs\\tf2\\lib\\site-packages (from requests>=2.26->yfinance) (3.3)\n",
      "Requirement already satisfied: charset-normalizer~=2.0.0 in c:\\users\\srushti chauhan\\.conda\\envs\\tf2\\lib\\site-packages (from requests>=2.26->yfinance) (2.0.12)\n",
      "Requirement already satisfied: urllib3<1.27,>=1.21.1 in c:\\users\\srushti chauhan\\.conda\\envs\\tf2\\lib\\site-packages (from requests>=2.26->yfinance) (1.26.9)\n",
      "Requirement already satisfied: six>=1.5 in c:\\users\\srushti chauhan\\.conda\\envs\\tf2\\lib\\site-packages (from python-dateutil>=2.7.3->pandas>=0.24.0->yfinance) (1.15.0)\n",
      "Note: you may need to restart the kernel to use updated packages.\n"
     ]
    }
   ],
   "source": [
    "pip install yfinance"
   ]
  },
  {
   "cell_type": "code",
   "execution_count": 2,
   "id": "e17a290d",
   "metadata": {},
   "outputs": [
    {
     "name": "stdout",
     "output_type": "stream",
     "text": [
      "1. XOM: Energy\n",
      "2. DD: Basic Materials\n",
      "3. BA: Industrials\n",
      "4. DUK: Utilities\n",
      "5. JNJ: Healthcare\n",
      "6. JPM: Financial Services\n",
      "7. AMZN: Consumer Cyclical\n",
      "8. PG: Consumer Defensive\n",
      "9. AAPL: Technology\n",
      "10. FB: Communication Services\n",
      "11. AMT: Real Estate\n"
     ]
    }
   ],
   "source": [
    "import yfinance as yf\n",
    "ticker = yf.Ticker('XOM').info\n",
    "print('1. XOM:', ticker['sector'])\n",
    "ticker = yf.Ticker('DD').info\n",
    "print('2. DD:', ticker['sector'])\n",
    "ticker = yf.Ticker('BA').info\n",
    "print('3. BA:', ticker['sector'])\n",
    "ticker = yf.Ticker('DUK').info\n",
    "print('4. DUK:', ticker['sector'])\n",
    "ticker = yf.Ticker('JNJ').info\n",
    "print('5. JNJ:', ticker['sector'])\n",
    "ticker = yf.Ticker('JPM').info\n",
    "print('6. JPM:', ticker['sector'])\n",
    "ticker = yf.Ticker('AMZN').info\n",
    "print('7. AMZN:', ticker['sector'])\n",
    "ticker = yf.Ticker('PG').info\n",
    "print('8. PG:', ticker['sector'])\n",
    "ticker = yf.Ticker('AAPL').info\n",
    "print('9. AAPL:', ticker['sector'])\n",
    "ticker = yf.Ticker('FB').info\n",
    "print('10. FB:', ticker['sector'])\n",
    "ticker = yf.Ticker('AMT').info\n",
    "print('11. AMT:', ticker['sector'])"
   ]
  },
  {
   "cell_type": "code",
   "execution_count": 5,
   "id": "5113090a",
   "metadata": {},
   "outputs": [],
   "source": [
    "import yfinance as yf\n",
    "import yahoo_fin.stock_info as si\n",
    "\n",
    "ticker_list = si.tickers_nasdaq()"
   ]
  },
  {
   "cell_type": "code",
   "execution_count": 4,
   "id": "9ecbb251",
   "metadata": {},
   "outputs": [
    {
     "data": {
      "text/plain": [
       "['Energy',\n",
       " 'Basic Materials',\n",
       " 'Industrials',\n",
       " 'Utilities',\n",
       " 'Healthcare',\n",
       " 'Financial Services',\n",
       " 'Consumer Cyclical',\n",
       " 'Consumer Defensive',\n",
       " 'Technology',\n",
       " 'Communication Services',\n",
       " 'Real Estate']"
      ]
     },
     "execution_count": 4,
     "metadata": {},
     "output_type": "execute_result"
    }
   ],
   "source": [
    "list_sectors = []\n",
    "list_sectors.append('Energy')\n",
    "list_sectors.append('Basic Materials')\n",
    "list_sectors.append('Industrials')\n",
    "list_sectors.append('Utilities')\n",
    "list_sectors.append('Healthcare')\n",
    "list_sectors.append('Financial Services')\n",
    "list_sectors.append('Consumer Cyclical')\n",
    "list_sectors.append('Consumer Defensive')\n",
    "list_sectors.append('Technology')\n",
    "list_sectors.append('Communication Services')\n",
    "list_sectors.append('Real Estate')\n",
    "list_sectors"
   ]
  },
  {
   "cell_type": "code",
   "execution_count": 6,
   "id": "e9092c3d",
   "metadata": {},
   "outputs": [],
   "source": [
    "lst1 = [] # Energy\n",
    "lst2 = [] # Basic Materials\n",
    "lst3 = [] # Industrials\n",
    "lst4 = [] # Utilities\n",
    "lst5 = [] # Healthcare\n",
    "lst6 = [] # Financial Services\n",
    "lst7 = [] # Consumer Cyclical\n",
    "lst8 = [] # Consumer Defensive\n",
    "lst9 = [] # Technology\n",
    "lst10 = [] # Communication Services\n",
    "lst11 = [] # Real Estate"
   ]
  },
  {
   "cell_type": "code",
   "execution_count": 7,
   "id": "de2abcc4",
   "metadata": {},
   "outputs": [
    {
     "name": "stdout",
     "output_type": "stream",
     "text": [
      "\n",
      "14685.46386051178\n"
     ]
    }
   ],
   "source": [
    "import time\n",
    "start = time.time()\n",
    "for tkr in ticker_list:\n",
    "    try:\n",
    "        ticker = yf.Ticker(tkr).info\n",
    "        sector_name = ticker['sector']\n",
    "        if sector_name == 'Energy':\n",
    "            lst1.append(tkr)\n",
    "        if sector_name == 'Basic Materials':\n",
    "            lst2.append(tkr)\n",
    "        if sector_name == 'Industrials':\n",
    "            lst3.append(tkr)\n",
    "        if sector_name == 'Utilities':\n",
    "            lst4.append(tkr)\n",
    "        if sector_name == 'Healthcare':\n",
    "            lst5.append(tkr)\n",
    "        if sector_name == 'Financial Services':\n",
    "            lst6.append(tkr)\n",
    "        if sector_name == 'Consumer Cyclical':\n",
    "            lst7.append(tkr)\n",
    "        if sector_name == 'Consumer Defensive':\n",
    "            lst8.append(tkr)\n",
    "        if sector_name == 'Technology':\n",
    "            lst9.append(tkr)\n",
    "        if sector_name == 'Communication Services':\n",
    "            lst10.append(tkr)\n",
    "        if sector_name == 'Real Estate':\n",
    "            lst11.append(tkr)\n",
    "    except:\n",
    "        pass\n",
    "end = time.time()\n",
    "total_time = end - start\n",
    "print(\"\\n\"+ str(total_time))"
   ]
  },
  {
   "cell_type": "code",
   "execution_count": 8,
   "id": "27cb3848",
   "metadata": {
    "scrolled": true
   },
   "outputs": [
    {
     "name": "stdout",
     "output_type": "stream",
     "text": [
      "52\n",
      "60\n",
      "299\n",
      "33\n",
      "1138\n",
      "1487\n",
      "311\n",
      "140\n",
      "577\n",
      "192\n",
      "87\n"
     ]
    }
   ],
   "source": [
    "print(len(lst1))\n",
    "print(len(lst2))\n",
    "print(len(lst3))\n",
    "print(len(lst4))\n",
    "print(len(lst5))\n",
    "print(len(lst6))\n",
    "print(len(lst7))\n",
    "print(len(lst8))\n",
    "print(len(lst9))\n",
    "print(len(lst10))\n",
    "print(len(lst11))"
   ]
  },
  {
   "cell_type": "code",
   "execution_count": 11,
   "id": "8512ed11",
   "metadata": {},
   "outputs": [],
   "source": [
    "import pandas as pd\n",
    "\n",
    "df1 = pd.DataFrame(lst1, columns = ['Energy'])\n",
    "df2 = pd.DataFrame(lst2, columns = ['Basic Materials'])\n",
    "df3 = pd.DataFrame(lst3, columns = ['Industrials'])\n",
    "df4 = pd.DataFrame(lst4, columns = ['Utilities'])\n",
    "df5 = pd.DataFrame(lst5, columns = ['Healthcare'])\n",
    "df6 = pd.DataFrame(lst6, columns = ['Financial Services'])\n",
    "df7 = pd.DataFrame(lst7, columns = ['Consumer Cyclical'])\n",
    "df8 = pd.DataFrame(lst8, columns = ['Consumer Defensive'])\n",
    "df9 = pd.DataFrame(lst9, columns = ['Technology'])\n",
    "df10 = pd.DataFrame(lst10, columns = ['Communication Services'])\n",
    "df11 = pd.DataFrame(lst11, columns = ['Real Estate'])"
   ]
  },
  {
   "cell_type": "code",
   "execution_count": 12,
   "id": "15ff237d",
   "metadata": {},
   "outputs": [],
   "source": [
    "df1.to_csv(\"data/energy_ticker_list.csv\")\n",
    "df2.to_csv(\"data/basic_materials_ticker_list.csv\")\n",
    "df3.to_csv(\"data/industrials_ticker_list.csv\")\n",
    "df4.to_csv(\"data/utilities_ticker_list.csv\")\n",
    "df5.to_csv(\"data/healthcare_ticker_list.csv\")\n",
    "df6.to_csv(\"data/financial_services_ticker_list.csv\")\n",
    "df7.to_csv(\"data/consumer_cyclical_ticker_list.csv\")\n",
    "df8.to_csv(\"data/consumer_defensive_ticker_list.csv\")\n",
    "df9.to_csv(\"data/technology_ticker_list.csv\")\n",
    "df10.to_csv(\"data/communication_services_ticker_list.csv\")\n",
    "df11.to_csv(\"data/real_estate_ticker_list.csv\")"
   ]
  },
  {
   "cell_type": "code",
   "execution_count": 13,
   "id": "ba58d34e",
   "metadata": {},
   "outputs": [
    {
     "name": "stdout",
     "output_type": "stream",
     "text": [
      "52\n",
      "60\n",
      "299\n",
      "33\n",
      "1138\n",
      "1487\n",
      "311\n",
      "140\n",
      "577\n",
      "192\n",
      "87\n"
     ]
    }
   ],
   "source": [
    "print(len(df1))\n",
    "print(len(df2))\n",
    "print(len(df3))\n",
    "print(len(df4))\n",
    "print(len(df5))\n",
    "print(len(df6))\n",
    "print(len(df7))\n",
    "print(len(df8))\n",
    "print(len(df9))\n",
    "print(len(df10))\n",
    "print(len(df11))"
   ]
  },
  {
   "cell_type": "code",
   "execution_count": null,
   "id": "cce7ebd1",
   "metadata": {},
   "outputs": [],
   "source": []
  },
  {
   "cell_type": "code",
   "execution_count": null,
   "id": "12c827e7",
   "metadata": {},
   "outputs": [],
   "source": []
  }
 ],
 "metadata": {
  "kernelspec": {
   "display_name": "Python 3 (ipykernel)",
   "language": "python",
   "name": "python3"
  },
  "language_info": {
   "codemirror_mode": {
    "name": "ipython",
    "version": 3
   },
   "file_extension": ".py",
   "mimetype": "text/x-python",
   "name": "python",
   "nbconvert_exporter": "python",
   "pygments_lexer": "ipython3",
   "version": "3.8.13"
  }
 },
 "nbformat": 4,
 "nbformat_minor": 5
}
